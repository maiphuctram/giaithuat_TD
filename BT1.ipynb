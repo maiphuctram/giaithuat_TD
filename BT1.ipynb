{
  "nbformat": 4,
  "nbformat_minor": 0,
  "metadata": {
    "colab": {
      "name": "BT1",
      "provenance": [],
      "authorship_tag": "ABX9TyMTPLr+3te3YjlrlbvKDXiO",
      "include_colab_link": true
    },
    "kernelspec": {
      "name": "python3",
      "display_name": "Python 3"
    },
    "language_info": {
      "name": "python"
    }
  },
  "cells": [
    {
      "cell_type": "markdown",
      "metadata": {
        "id": "view-in-github",
        "colab_type": "text"
      },
      "source": [
        "<a href=\"https://colab.research.google.com/github/maiphuctram/giaithuat_TD/blob/main/BT1.ipynb\" target=\"_parent\"><img src=\"https://colab.research.google.com/assets/colab-badge.svg\" alt=\"Open In Colab\"/></a>"
      ]
    },
    {
      "cell_type": "code",
      "metadata": {
        "colab": {
          "base_uri": "https://localhost:8080/"
        },
        "id": "QrlIHbdaQW-g",
        "outputId": "201be1b1-ffa8-4160-828f-d9b46613a71f"
      },
      "source": [
        "n = int(input('nhập số dĩa:'))\n",
        "def thaphanoi(n, cot_goc, cot_cuoi, trung_gian):\n",
        "  if n == 1:\n",
        "    print(\"Di chuyển dĩa 1 từ cột\",cot_goc,\"đến cột\",cot_cuoi)\n",
        "    return\n",
        "  thaphanoi(n-1, cot_goc, trung_gian, cot_cuoi)\n",
        "  print (\"Di chuyển dĩa \",n,\"từ cột\",cot_goc,\"đến cột\",cot_cuoi)\n",
        "  thaphanoi(n-1, trung_gian, cot_cuoi, cot_goc)\n",
        "print(thaphanoi(n,\"gốc\",\"cuối\",\"trung gian\"))"
      ],
      "execution_count": null,
      "outputs": [
        {
          "output_type": "stream",
          "text": [
            "nhập số dĩa:5\n",
            "Di chuyển dĩa 1 từ cột gốc đến cột cuối\n",
            "Di chuyển dĩa  2 từ cột gốc đến cột trung gian\n",
            "Di chuyển dĩa 1 từ cột cuối đến cột trung gian\n",
            "Di chuyển dĩa  3 từ cột gốc đến cột cuối\n",
            "Di chuyển dĩa 1 từ cột trung gian đến cột gốc\n",
            "Di chuyển dĩa  2 từ cột trung gian đến cột cuối\n",
            "Di chuyển dĩa 1 từ cột gốc đến cột cuối\n",
            "Di chuyển dĩa  4 từ cột gốc đến cột trung gian\n",
            "Di chuyển dĩa 1 từ cột cuối đến cột trung gian\n",
            "Di chuyển dĩa  2 từ cột cuối đến cột gốc\n",
            "Di chuyển dĩa 1 từ cột trung gian đến cột gốc\n",
            "Di chuyển dĩa  3 từ cột cuối đến cột trung gian\n",
            "Di chuyển dĩa 1 từ cột gốc đến cột cuối\n",
            "Di chuyển dĩa  2 từ cột gốc đến cột trung gian\n",
            "Di chuyển dĩa 1 từ cột cuối đến cột trung gian\n",
            "Di chuyển dĩa  5 từ cột gốc đến cột cuối\n",
            "Di chuyển dĩa 1 từ cột trung gian đến cột gốc\n",
            "Di chuyển dĩa  2 từ cột trung gian đến cột cuối\n",
            "Di chuyển dĩa 1 từ cột gốc đến cột cuối\n",
            "Di chuyển dĩa  3 từ cột trung gian đến cột gốc\n",
            "Di chuyển dĩa 1 từ cột cuối đến cột trung gian\n",
            "Di chuyển dĩa  2 từ cột cuối đến cột gốc\n",
            "Di chuyển dĩa 1 từ cột trung gian đến cột gốc\n",
            "Di chuyển dĩa  4 từ cột trung gian đến cột cuối\n",
            "Di chuyển dĩa 1 từ cột gốc đến cột cuối\n",
            "Di chuyển dĩa  2 từ cột gốc đến cột trung gian\n",
            "Di chuyển dĩa 1 từ cột cuối đến cột trung gian\n",
            "Di chuyển dĩa  3 từ cột gốc đến cột cuối\n",
            "Di chuyển dĩa 1 từ cột trung gian đến cột gốc\n",
            "Di chuyển dĩa  2 từ cột trung gian đến cột cuối\n",
            "Di chuyển dĩa 1 từ cột gốc đến cột cuối\n",
            "None\n"
          ],
          "name": "stdout"
        }
      ]
    }
  ]
}