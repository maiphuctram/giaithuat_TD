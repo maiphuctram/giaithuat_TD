{
  "nbformat": 4,
  "nbformat_minor": 0,
  "metadata": {
    "colab": {
      "name": "BT9",
      "provenance": [],
      "authorship_tag": "ABX9TyNPAW5rSD9uwMeauzdOC9Kc",
      "include_colab_link": true
    },
    "kernelspec": {
      "name": "python3",
      "display_name": "Python 3"
    },
    "language_info": {
      "name": "python"
    }
  },
  "cells": [
    {
      "cell_type": "markdown",
      "metadata": {
        "id": "view-in-github",
        "colab_type": "text"
      },
      "source": [
        "<a href=\"https://colab.research.google.com/github/maiphuctram/giaithuat_TD/blob/main/BT9.ipynb\" target=\"_parent\"><img src=\"https://colab.research.google.com/assets/colab-badge.svg\" alt=\"Open In Colab\"/></a>"
      ]
    },
    {
      "cell_type": "code",
      "metadata": {
        "colab": {
          "base_uri": "https://localhost:8080/"
        },
        "id": "7P8nFqwmfUoo",
        "outputId": "d1178999-3f27-4433-db64-578b1af1092d"
      },
      "source": [
        "queue = []\n",
        " \n",
        "# Thêm các phần tử vào hàng đợi\n",
        "queue.append('a')\n",
        "queue.append('b')\n",
        "queue.append('c')\n",
        " \n",
        "print(\"Initial queue\")\n",
        "print(queue)\n",
        " \n",
        "# Xóa các phần tử khỏi hàng đợi\n",
        "print(\"\\nElements dequeued from queue\")\n",
        "print(queue.pop(0))\n",
        "print(queue.pop(0))\n",
        "print(queue.pop(0))\n",
        " \n",
        "print(\"\\nQueue after removing elements\")\n",
        "print(queue)"
      ],
      "execution_count": 1,
      "outputs": [
        {
          "output_type": "stream",
          "text": [
            "Initial queue\n",
            "['a', 'b', 'c']\n",
            "\n",
            "Elements dequeued from queue\n",
            "a\n",
            "b\n",
            "c\n",
            "\n",
            "Queue after removing elements\n",
            "[]\n"
          ],
          "name": "stdout"
        }
      ]
    }
  ]
}