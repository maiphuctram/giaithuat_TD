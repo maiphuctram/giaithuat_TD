{
  "nbformat": 4,
  "nbformat_minor": 0,
  "metadata": {
    "colab": {
      "name": "BT3",
      "provenance": [],
      "authorship_tag": "ABX9TyN8rYYEeHEwQZha8Nkz6Nmb",
      "include_colab_link": true
    },
    "kernelspec": {
      "name": "python3",
      "display_name": "Python 3"
    },
    "language_info": {
      "name": "python"
    }
  },
  "cells": [
    {
      "cell_type": "markdown",
      "metadata": {
        "id": "view-in-github",
        "colab_type": "text"
      },
      "source": [
        "<a href=\"https://colab.research.google.com/github/maiphuctram/giaithuat_TD/blob/main/BT3.ipynb\" target=\"_parent\"><img src=\"https://colab.research.google.com/assets/colab-badge.svg\" alt=\"Open In Colab\"/></a>"
      ]
    },
    {
      "cell_type": "code",
      "metadata": {
        "colab": {
          "base_uri": "https://localhost:8080/"
        },
        "id": "hLGD75frXMFb",
        "outputId": "c421976c-1193-40ca-b15a-68fd5c1b75ae"
      },
      "source": [
        "n = int(input(\"Nhập số cần tính giai thừa: \"))\n",
        " \n",
        "def giaiThua(n):\n",
        "    if n == 0:\n",
        "        return 1\n",
        "    return n * giaiThua(n - 1)\n",
        " \n",
        "print (giaiThua(n))"
      ],
      "execution_count": 1,
      "outputs": [
        {
          "output_type": "stream",
          "text": [
            "Nhập số cần tính giai thừa: 4\n",
            "24\n"
          ],
          "name": "stdout"
        }
      ]
    }
  ]
}