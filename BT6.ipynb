{
  "nbformat": 4,
  "nbformat_minor": 0,
  "metadata": {
    "colab": {
      "name": "BT6",
      "provenance": [],
      "authorship_tag": "ABX9TyMJF3koxdGYEpXhyHhR2PEp",
      "include_colab_link": true
    },
    "kernelspec": {
      "name": "python3",
      "display_name": "Python 3"
    },
    "language_info": {
      "name": "python"
    }
  },
  "cells": [
    {
      "cell_type": "markdown",
      "metadata": {
        "id": "view-in-github",
        "colab_type": "text"
      },
      "source": [
        "<a href=\"https://colab.research.google.com/github/maiphuctram/giaithuat_TD/blob/main/BT6.ipynb\" target=\"_parent\"><img src=\"https://colab.research.google.com/assets/colab-badge.svg\" alt=\"Open In Colab\"/></a>"
      ]
    },
    {
      "cell_type": "code",
      "metadata": {
        "colab": {
          "base_uri": "https://localhost:8080/"
        },
        "id": "aG9C9-_-eQn0",
        "outputId": "1af09f1a-97eb-4bd0-dda6-c89ccbb3d9a4"
      },
      "source": [
        "# Node class \n",
        "class Node: \n",
        "  \n",
        "    # Hàm khởi tạo dối tượng  node\n",
        "    def __init__(self, data): \n",
        "        self.data = data  # Gán dữ liệu\n",
        "        self.next = None  # Khởi tạo tiếp theo là null\n",
        "  \n",
        "  \n",
        "# Lớp Danh sách được liên kết chứa một đối tượng Node\n",
        "class LinkedList: \n",
        "  \n",
        "    # Hàm khởi tạo head \n",
        "    def __init__(self): \n",
        "        self.head = None\n",
        "  \n",
        "    # Hàm này in nội dung của danh sách liên kết \n",
        "    # Bắt đầu từ head \n",
        "    def printList(self): \n",
        "        temp = self.head \n",
        "        while (temp): \n",
        "            print (temp.data) \n",
        "            temp = temp.next\n",
        "  \n",
        "  \n",
        "# CQuá trình thực thi mã bắt đầu ở đây\n",
        "if __name__=='__main__': \n",
        "  \n",
        "    # Bắt đầu với ds rỗng \n",
        "    llist = LinkedList() \n",
        "  \n",
        "    llist.head = Node(4) \n",
        "    second = Node(2) \n",
        "    third = Node(5) \n",
        "  \n",
        "    llist.head.next = second; # Liên kết node thứ nhất vs node thứ 2 \n",
        "    second.next = third; # Liên kết node thứ 2 với thứ 3 \n",
        "  \n",
        "    llist.printList() "
      ],
      "execution_count": 1,
      "outputs": [
        {
          "output_type": "stream",
          "text": [
            "4\n",
            "2\n",
            "5\n"
          ],
          "name": "stdout"
        }
      ]
    }
  ]
}