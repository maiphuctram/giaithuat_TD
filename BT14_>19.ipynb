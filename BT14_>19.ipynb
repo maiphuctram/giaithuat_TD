{
  "nbformat": 4,
  "nbformat_minor": 0,
  "metadata": {
    "colab": {
      "name": "BT14->19",
      "provenance": [],
      "authorship_tag": "ABX9TyNIR+5RqZNVhjAkSzkC0jgi",
      "include_colab_link": true
    },
    "kernelspec": {
      "name": "python3",
      "display_name": "Python 3"
    },
    "language_info": {
      "name": "python"
    }
  },
  "cells": [
    {
      "cell_type": "markdown",
      "metadata": {
        "id": "view-in-github",
        "colab_type": "text"
      },
      "source": [
        "<a href=\"https://colab.research.google.com/github/maiphuctram/giaithuat_TD/blob/main/BT14_%3E19.ipynb\" target=\"_parent\"><img src=\"https://colab.research.google.com/assets/colab-badge.svg\" alt=\"Open In Colab\"/></a>"
      ]
    },
    {
      "cell_type": "markdown",
      "metadata": {
        "id": "0-KnrV_H_-7W"
      },
      "source": [
        "bài 14->17\n",
        "\n",
        "https://github.com/maiphuctram/R/blob/master/btap204.R\n"
      ]
    },
    {
      "cell_type": "markdown",
      "metadata": {
        "id": "s8xja8XgALLO"
      },
      "source": [
        "bài 18\n",
        "https://github.com/maiphuctram/R/blob/master/heap_sort.R"
      ]
    },
    {
      "cell_type": "markdown",
      "metadata": {
        "id": "gkKLsUJZAQCw"
      },
      "source": [
        " bài 19\n",
        " https://github.com/maiphuctram/R/blob/master/merge_sort.ipynb"
      ]
    },
    {
      "cell_type": "markdown",
      "metadata": {
        "id": "FyUqbFEjAVF8"
      },
      "source": [
        ""
      ]
    }
  ]
}