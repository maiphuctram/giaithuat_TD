{
  "nbformat": 4,
  "nbformat_minor": 0,
  "metadata": {
    "colab": {
      "name": "BT10_11",
      "provenance": [],
      "authorship_tag": "ABX9TyOQ3vbY2iMO4o7WverYhQ5i",
      "include_colab_link": true
    },
    "kernelspec": {
      "name": "python3",
      "display_name": "Python 3"
    },
    "language_info": {
      "name": "python"
    }
  },
  "cells": [
    {
      "cell_type": "markdown",
      "metadata": {
        "id": "view-in-github",
        "colab_type": "text"
      },
      "source": [
        "<a href=\"https://colab.research.google.com/github/maiphuctram/giaithuat_TD/blob/main/BT10_11.ipynb\" target=\"_parent\"><img src=\"https://colab.research.google.com/assets/colab-badge.svg\" alt=\"Open In Colab\"/></a>"
      ]
    },
    {
      "cell_type": "code",
      "metadata": {
        "colab": {
          "base_uri": "https://localhost:8080/"
        },
        "id": "40uz7Qsr8MLf",
        "outputId": "60ec701f-95a8-4338-9b58-f2984a3b516c"
      },
      "source": [
        "pip install binarytree"
      ],
      "execution_count": 4,
      "outputs": [
        {
          "output_type": "stream",
          "text": [
            "Requirement already satisfied: binarytree in /usr/local/lib/python3.7/dist-packages (6.3.0)\n",
            "Requirement already satisfied: graphviz in /usr/local/lib/python3.7/dist-packages (from binarytree) (0.10.1)\n",
            "Requirement already satisfied: setuptools-scm[toml]>=3.4 in /usr/local/lib/python3.7/dist-packages (from binarytree) (6.0.1)\n",
            "Requirement already satisfied: setuptools>=42 in /usr/local/lib/python3.7/dist-packages (from binarytree) (56.1.0)\n",
            "Requirement already satisfied: toml; extra == \"toml\" in /usr/local/lib/python3.7/dist-packages (from setuptools-scm[toml]>=3.4->binarytree) (0.10.2)\n"
          ],
          "name": "stdout"
        }
      ]
    },
    {
      "cell_type": "code",
      "metadata": {
        "colab": {
          "base_uri": "https://localhost:8080/"
        },
        "id": "gQYB5uSSf_7v",
        "outputId": "10974954-d67d-4bd2-b791-ccc6687036fa"
      },
      "source": [
        "from binarytree import build\n",
        "values = [9, 4, 2, 6, 7, None, 1, 5, 8]\n",
        "root = build(values)\n",
        "print(root)\n",
        "print(root.preorder) # duyệt cây theo thứ tự trước\n",
        "print(root.postorder) # duyệt cây theo thứ tự sau\n"
      ],
      "execution_count": 5,
      "outputs": [
        {
          "output_type": "stream",
          "text": [
            "\n",
            "        __9\n",
            "       /   \\\n",
            "    __4     2\n",
            "   /   \\     \\\n",
            "  6     7     1\n",
            " / \\\n",
            "5   8\n",
            "\n",
            "[Node(9), Node(4), Node(6), Node(5), Node(8), Node(7), Node(2), Node(1)]\n",
            "[Node(5), Node(8), Node(6), Node(7), Node(4), Node(1), Node(2), Node(9)]\n"
          ],
          "name": "stdout"
        }
      ]
    }
  ]
}