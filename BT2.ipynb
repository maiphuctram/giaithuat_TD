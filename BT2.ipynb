{
  "nbformat": 4,
  "nbformat_minor": 0,
  "metadata": {
    "colab": {
      "name": "BT2",
      "provenance": [],
      "authorship_tag": "ABX9TyOJRi1sjUsvNN/c4qBt+l5A",
      "include_colab_link": true
    },
    "kernelspec": {
      "name": "python3",
      "display_name": "Python 3"
    },
    "language_info": {
      "name": "python"
    }
  },
  "cells": [
    {
      "cell_type": "markdown",
      "metadata": {
        "id": "view-in-github",
        "colab_type": "text"
      },
      "source": [
        "<a href=\"https://colab.research.google.com/github/maiphuctram/giaithuat_TD/blob/main/BT2.ipynb\" target=\"_parent\"><img src=\"https://colab.research.google.com/assets/colab-badge.svg\" alt=\"Open In Colab\"/></a>"
      ]
    },
    {
      "cell_type": "code",
      "metadata": {
        "colab": {
          "base_uri": "https://localhost:8080/"
        },
        "id": "3ibWGc3pV2FM",
        "outputId": "1adec227-9ca5-4bf8-a840-3238fd2507d4"
      },
      "source": [
        "a = int(input('nhap a = '))\n",
        "b = int(input('nhap b = '))\n",
        "\n",
        "def uscln(a, b):\n",
        "    if (b == 0):\n",
        "        return a;\n",
        "    return uscln(b, a % b);\n",
        "print('UCLN cua',a,'va ',b,'la :',uscln(a,b))"
      ],
      "execution_count": 1,
      "outputs": [
        {
          "output_type": "stream",
          "text": [
            "nhap a = 5\n",
            "nhap b = 9\n",
            "UCLN cua 5 va  9 la : 1\n"
          ],
          "name": "stdout"
        }
      ]
    }
  ]
}